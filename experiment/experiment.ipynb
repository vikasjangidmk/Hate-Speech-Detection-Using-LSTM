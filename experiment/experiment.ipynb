{
  "cells": [
    {
      "cell_type": "code",
      "execution_count": null,
      "metadata": {
        "colab": {
          "base_uri": "https://localhost:8080/"
        },
        "id": "Hs4rwvtaCReh",
        "outputId": "05dfca71-d3de-4788-9d59-e174e74974a1"
      },
      "outputs": [],
      "source": [
        "!nvidia-smi"
      ]
    },
    {
      "cell_type": "code",
      "execution_count": null,
      "metadata": {
        "id": "ppDTr4MQCz7q"
      },
      "outputs": [],
      "source": [
        "#!unzip /content/dataset.zip"
      ]
    },
    {
      "cell_type": "code",
      "execution_count": null,
      "metadata": {
        "id": "CJM8EZpADEkP"
      },
      "outputs": [],
      "source": [
        "import pandas as pd\n",
        "import numpy as np\n",
        "import matplotlib.pyplot as plt\n",
        "import seaborn as sns\n",
        "import os"
      ]
    },
    {
      "cell_type": "code",
      "execution_count": null,
      "metadata": {
        "id": "b-NMwUI2DXnU"
      },
      "outputs": [],
      "source": [
        "imbalance_data = pd.read_csv(\"imbalanced_data.csv\")"
      ]
    },
    {
      "cell_type": "code",
      "execution_count": null,
      "metadata": {
        "colab": {
          "base_uri": "https://localhost:8080/",
          "height": 206
        },
        "id": "uzCR6-yODe0v",
        "outputId": "0a4a018b-5a23-4867-adba-a4418130d576"
      },
      "outputs": [],
      "source": [
        "imbalance_data.head()"
      ]
    },
    {
      "cell_type": "code",
      "execution_count": null,
      "metadata": {
        "colab": {
          "base_uri": "https://localhost:8080/"
        },
        "id": "9HJ9i7n9Dogv",
        "outputId": "b88f395a-72fc-4fe0-d783-1d513ab9a83a"
      },
      "outputs": [],
      "source": [
        "imbalance_data.columns"
      ]
    },
    {
      "cell_type": "markdown",
      "metadata": {
        "id": "k5fsI7WqD8To"
      },
      "source": [
        "## EDA"
      ]
    },
    {
      "cell_type": "code",
      "execution_count": null,
      "metadata": {
        "colab": {
          "base_uri": "https://localhost:8080/",
          "height": 466
        },
        "id": "0CokuOrxD0IE",
        "outputId": "0c40cb6f-8bdd-4d69-ac5d-aa53fcb51295"
      },
      "outputs": [],
      "source": [
        "sns.countplot(x = 'label', data = imbalance_data)"
      ]
    },
    {
      "cell_type": "code",
      "execution_count": null,
      "metadata": {
        "colab": {
          "base_uri": "https://localhost:8080/",
          "height": 178
        },
        "id": "eq6JKkm4EH20",
        "outputId": "f8bd14c8-38b5-49ed-bf87-209db34f2c52"
      },
      "outputs": [],
      "source": [
        "imbalance_data[\"label\"].value_counts()"
      ]
    },
    {
      "cell_type": "markdown",
      "metadata": {
        "id": "p-_mRvgwERNG"
      },
      "source": [
        "##\n",
        "- 0 = No Hate\n",
        "- 1 = Hate"
      ]
    },
    {
      "cell_type": "code",
      "execution_count": null,
      "metadata": {
        "colab": {
          "base_uri": "https://localhost:8080/"
        },
        "id": "SXR3OIGgEOCS",
        "outputId": "03bef6b2-0d54-4633-9323-da492c8fcb11"
      },
      "outputs": [],
      "source": [
        "imbalance_data.shape"
      ]
    },
    {
      "cell_type": "code",
      "execution_count": null,
      "metadata": {
        "colab": {
          "base_uri": "https://localhost:8080/",
          "height": 178
        },
        "id": "6YBpEJEtEgOu",
        "outputId": "f98dc8e2-9e79-4bc2-c7e2-e24757b8f470"
      },
      "outputs": [],
      "source": [
        "imbalance_data.isnull().sum()"
      ]
    },
    {
      "cell_type": "code",
      "execution_count": null,
      "metadata": {
        "id": "xeatt6reEled"
      },
      "outputs": [],
      "source": [
        "imbalance_data.drop(\"id\", axis= 1, inplace= True)"
      ]
    },
    {
      "cell_type": "code",
      "execution_count": null,
      "metadata": {
        "colab": {
          "base_uri": "https://localhost:8080/",
          "height": 206
        },
        "id": "00XS-eflEuoL",
        "outputId": "a41b1d5c-0a79-4a0f-e278-224326aa2264"
      },
      "outputs": [],
      "source": [
        "imbalance_data.head()"
      ]
    },
    {
      "cell_type": "code",
      "execution_count": null,
      "metadata": {
        "colab": {
          "base_uri": "https://localhost:8080/",
          "height": 206
        },
        "id": "p_QjHe1BEv4v",
        "outputId": "9e1b1b84-60b7-4cc8-b58b-20b450d95227"
      },
      "outputs": [],
      "source": [
        "raw_data = pd.read_csv(\"raw_data.csv\")\n",
        "raw_data.head()"
      ]
    },
    {
      "cell_type": "code",
      "execution_count": null,
      "metadata": {
        "colab": {
          "base_uri": "https://localhost:8080/"
        },
        "id": "90CS6qjIFhbo",
        "outputId": "3c70ef7d-d6a9-44d4-dbd3-9ac18f3d09b5"
      },
      "outputs": [],
      "source": [
        "raw_data.shape"
      ]
    },
    {
      "cell_type": "code",
      "execution_count": null,
      "metadata": {
        "colab": {
          "base_uri": "https://localhost:8080/",
          "height": 303
        },
        "id": "T2JwwQ3-F8DO",
        "outputId": "09524ee5-7f60-4e86-96e9-e0462a87e376"
      },
      "outputs": [],
      "source": [
        "raw_data.isnull().sum()"
      ]
    },
    {
      "cell_type": "code",
      "execution_count": null,
      "metadata": {
        "colab": {
          "base_uri": "https://localhost:8080/"
        },
        "id": "5qwOnYZhGF75",
        "outputId": "3fc5ff73-af69-4888-d2a0-f717029c0038"
      },
      "outputs": [],
      "source": [
        "raw_data.columns"
      ]
    },
    {
      "cell_type": "code",
      "execution_count": null,
      "metadata": {
        "id": "nXtC2dlqF_VH"
      },
      "outputs": [],
      "source": [
        "raw_data.drop(['Unnamed: 0', 'count', 'hate_speech', 'offensive_language', 'neither'],axis = 1, inplace=True)"
      ]
    },
    {
      "cell_type": "code",
      "execution_count": null,
      "metadata": {
        "colab": {
          "base_uri": "https://localhost:8080/",
          "height": 206
        },
        "id": "O2lSNF0BGPes",
        "outputId": "fb1503c2-f0cf-48b8-cd76-3524412a1e16"
      },
      "outputs": [],
      "source": [
        "raw_data.head()"
      ]
    },
    {
      "cell_type": "code",
      "execution_count": null,
      "metadata": {
        "colab": {
          "base_uri": "https://localhost:8080/",
          "height": 209
        },
        "id": "vHWvIhVLGnB9",
        "outputId": "395f99b0-8f34-4c55-a634-727fa280fea1"
      },
      "outputs": [],
      "source": [
        "raw_data[\"class\"].value_counts()"
      ]
    },
    {
      "cell_type": "code",
      "execution_count": null,
      "metadata": {
        "colab": {
          "base_uri": "https://localhost:8080/"
        },
        "id": "p3mzrdd_Gt3t",
        "outputId": "270fc0cb-bba2-4cd3-ec15-f38672b84b4c"
      },
      "outputs": [],
      "source": [
        "raw_data[\"class\"].unique()"
      ]
    },
    {
      "cell_type": "code",
      "execution_count": null,
      "metadata": {
        "colab": {
          "base_uri": "https://localhost:8080/",
          "height": 469
        },
        "id": "U3tKJzOWGXxP",
        "outputId": "eff88234-3dd0-48e4-cb31-b75afcad25bf"
      },
      "outputs": [],
      "source": [
        "sns.countplot(x = 'class', data = raw_data)"
      ]
    },
    {
      "cell_type": "markdown",
      "metadata": {
        "id": "atRPU5LWG_Oo"
      },
      "source": [
        "- class 0: hate\n",
        "- class 1: abusive\n",
        "- class 2: no hate"
      ]
    },
    {
      "cell_type": "code",
      "execution_count": null,
      "metadata": {
        "colab": {
          "base_uri": "https://localhost:8080/"
        },
        "id": "QXWetogjGi6k",
        "outputId": "fb1e17dd-e5fd-41d3-e156-2302a7c3dbec"
      },
      "outputs": [],
      "source": [
        "# Combine class 1 and 0\n",
        "raw_data[raw_data[\"class\"]==0][\"class\"] = 1"
      ]
    },
    {
      "cell_type": "code",
      "execution_count": null,
      "metadata": {
        "colab": {
          "base_uri": "https://localhost:8080/",
          "height": 206
        },
        "id": "OeXMRmgjH5-N",
        "outputId": "a8124741-f74a-4e63-8db0-805830efc489"
      },
      "outputs": [],
      "source": [
        "raw_data.head()"
      ]
    },
    {
      "cell_type": "code",
      "execution_count": null,
      "metadata": {
        "colab": {
          "base_uri": "https://localhost:8080/",
          "height": 186
        },
        "id": "CkJ0R8rgH9i4",
        "outputId": "b71adfa3-3c58-4cbe-a21d-31a5a9ced970"
      },
      "outputs": [],
      "source": [
        "raw_data[\"class\"].unique"
      ]
    },
    {
      "cell_type": "code",
      "execution_count": null,
      "metadata": {
        "id": "9xTHWUJtIJFL"
      },
      "outputs": [],
      "source": []
    },
    {
      "cell_type": "code",
      "execution_count": null,
      "metadata": {
        "colab": {
          "base_uri": "https://localhost:8080/",
          "height": 209
        },
        "id": "ISSVxSYkIAHr",
        "outputId": "212680b8-4a6a-48dc-8592-1cbf2750b8c1"
      },
      "outputs": [],
      "source": [
        "raw_data['class'].value_counts()"
      ]
    },
    {
      "cell_type": "code",
      "execution_count": null,
      "metadata": {
        "colab": {
          "base_uri": "https://localhost:8080/",
          "height": 423
        },
        "id": "E1fDmAH-IXWa",
        "outputId": "0bea8d10-de02-473a-9536-2c2801f1e266"
      },
      "outputs": [],
      "source": [
        "raw_data[raw_data[\"class\"]==0]"
      ]
    },
    {
      "cell_type": "code",
      "execution_count": null,
      "metadata": {
        "id": "vSn94aNWIZvw"
      },
      "outputs": [],
      "source": [
        "# Replace the value of 0 to 1\n",
        "raw_data['class'].replace({0:1},inplace=True)"
      ]
    },
    {
      "cell_type": "code",
      "execution_count": null,
      "metadata": {
        "colab": {
          "base_uri": "https://localhost:8080/",
          "height": 206
        },
        "id": "9WbJuVhcIoeX",
        "outputId": "2eb6b7ae-80a0-4aac-feeb-4d8502cb5ac3"
      },
      "outputs": [],
      "source": [
        "raw_data.head()"
      ]
    },
    {
      "cell_type": "code",
      "execution_count": null,
      "metadata": {
        "colab": {
          "base_uri": "https://localhost:8080/"
        },
        "id": "pFus_-2GIsRS",
        "outputId": "43c5f044-59a3-4943-846c-6c44a587a4d5"
      },
      "outputs": [],
      "source": [
        "raw_data['class'].unique()"
      ]
    },
    {
      "cell_type": "code",
      "execution_count": null,
      "metadata": {
        "colab": {
          "base_uri": "https://localhost:8080/",
          "height": 466
        },
        "id": "pjm4YwxAIxFb",
        "outputId": "0f8673d2-3973-4f02-da8d-663539004a7c"
      },
      "outputs": [],
      "source": [
        "sns.countplot(x = 'class', data = raw_data)"
      ]
    },
    {
      "cell_type": "code",
      "execution_count": null,
      "metadata": {
        "colab": {
          "base_uri": "https://localhost:8080/",
          "height": 178
        },
        "id": "gunFUnDjI1ou",
        "outputId": "fea42f97-34dd-42ee-f4fb-dc54ad88970b"
      },
      "outputs": [],
      "source": [
        "raw_data[\"class\"].value_counts()"
      ]
    },
    {
      "cell_type": "code",
      "execution_count": null,
      "metadata": {
        "id": "PfoyY2KFI7cD"
      },
      "outputs": [],
      "source": [
        "# let's replace the values of 2 to 0\n",
        "raw_data['class'].replace({2:0},inplace=True)"
      ]
    },
    {
      "cell_type": "code",
      "execution_count": null,
      "metadata": {
        "colab": {
          "base_uri": "https://localhost:8080/",
          "height": 206
        },
        "id": "d1Vz4pvqJVco",
        "outputId": "e1036699-9574-478c-e37c-5259c6902a32"
      },
      "outputs": [],
      "source": [
        "raw_data.head()"
      ]
    },
    {
      "cell_type": "code",
      "execution_count": null,
      "metadata": {
        "colab": {
          "base_uri": "https://localhost:8080/"
        },
        "id": "YJ968-v0JW5c",
        "outputId": "941f9eff-d9d0-4ad2-b85c-d237836170bd"
      },
      "outputs": [],
      "source": [
        "raw_data['class'].unique()"
      ]
    },
    {
      "cell_type": "code",
      "execution_count": null,
      "metadata": {
        "colab": {
          "base_uri": "https://localhost:8080/",
          "height": 466
        },
        "id": "9_0WBMGvJafV",
        "outputId": "d8f51483-03b4-4f0e-b222-91f29ec05066"
      },
      "outputs": [],
      "source": [
        "sns.countplot(x='class', data=raw_data)"
      ]
    },
    {
      "cell_type": "code",
      "execution_count": null,
      "metadata": {
        "colab": {
          "base_uri": "https://localhost:8080/",
          "height": 206
        },
        "id": "ZNeqfnZPJfG9",
        "outputId": "04ee254f-130d-4101-a2c9-f50dce49e710"
      },
      "outputs": [],
      "source": [
        "imbalance_data.head()"
      ]
    },
    {
      "cell_type": "code",
      "execution_count": null,
      "metadata": {
        "colab": {
          "base_uri": "https://localhost:8080/",
          "height": 206
        },
        "id": "pN9sMzcHJh43",
        "outputId": "8b007495-2f6a-4f83-b2cd-9667b8b7565e"
      },
      "outputs": [],
      "source": [
        "raw_data.head()"
      ]
    },
    {
      "cell_type": "code",
      "execution_count": null,
      "metadata": {
        "id": "6oxvEiQmJkba"
      },
      "outputs": [],
      "source": [
        "# Let's change the name of the 'class' to 'label'\n",
        "raw_data.rename(columns={'class':'label'},inplace=True)"
      ]
    },
    {
      "cell_type": "code",
      "execution_count": null,
      "metadata": {
        "colab": {
          "base_uri": "https://localhost:8080/",
          "height": 206
        },
        "id": "iDn3U51iJ1En",
        "outputId": "6ad626b8-4da7-4d61-9d94-858d591fa99b"
      },
      "outputs": [],
      "source": [
        "raw_data.head()"
      ]
    },
    {
      "cell_type": "code",
      "execution_count": null,
      "metadata": {
        "colab": {
          "base_uri": "https://localhost:8080/",
          "height": 206
        },
        "id": "R3JELwRQJ2DJ",
        "outputId": "7460e50e-f782-4915-e801-da69e8695f46"
      },
      "outputs": [],
      "source": [
        "imbalance_data.head()"
      ]
    },
    {
      "cell_type": "code",
      "execution_count": null,
      "metadata": {
        "id": "S-duSLXpJ4Mj"
      },
      "outputs": [],
      "source": [
        "# merge\n",
        "frame = [imbalance_data,raw_data]\n",
        "df = pd.concat(frame)"
      ]
    },
    {
      "cell_type": "code",
      "execution_count": null,
      "metadata": {
        "colab": {
          "base_uri": "https://localhost:8080/",
          "height": 206
        },
        "id": "xfHe-cWkKkdj",
        "outputId": "ccb93e4d-8f36-435e-8997-6e12fe0824fc"
      },
      "outputs": [],
      "source": [
        "df.head()"
      ]
    },
    {
      "cell_type": "code",
      "execution_count": null,
      "metadata": {
        "colab": {
          "base_uri": "https://localhost:8080/"
        },
        "id": "UOfu5UC7Kl1N",
        "outputId": "87569e7b-466f-41d9-8788-0125bed80f55"
      },
      "outputs": [],
      "source": [
        "df.shape"
      ]
    },
    {
      "cell_type": "code",
      "execution_count": null,
      "metadata": {
        "colab": {
          "base_uri": "https://localhost:8080/",
          "height": 466
        },
        "id": "gx3cE6IkKnVP",
        "outputId": "d1d32de2-6348-4057-a42d-7322036db51b"
      },
      "outputs": [],
      "source": [
        "sns.countplot(x = 'label', data = df)"
      ]
    },
    {
      "cell_type": "code",
      "execution_count": null,
      "metadata": {
        "colab": {
          "base_uri": "https://localhost:8080/",
          "height": 178
        },
        "id": "2-mlYR3aKtaP",
        "outputId": "c7e1f08f-a358-493d-bd9e-dbd595364ca4"
      },
      "outputs": [],
      "source": [
        "df['label'].value_counts()"
      ]
    },
    {
      "cell_type": "markdown",
      "metadata": {
        "id": "c-qZRn5TLLxx"
      },
      "source": [
        "# Pre-processing step"
      ]
    },
    {
      "cell_type": "code",
      "execution_count": null,
      "metadata": {
        "id": "XhQmry1SKwYh"
      },
      "outputs": [],
      "source": [
        "import re\n",
        "import string\n",
        "import nltk\n",
        "from nltk.corpus import stopwords\n",
        "#nltk.download('all')"
      ]
    },
    {
      "cell_type": "code",
      "execution_count": null,
      "metadata": {
        "id": "TGWt3PMTfaKm"
      },
      "outputs": [],
      "source": [
        "# Let's apply stemming and stopwords on the data\n",
        "stemmer = nltk.SnowballStemmer(\"english\")\n",
        "stopword = set(stopwords.words('english'))"
      ]
    },
    {
      "cell_type": "code",
      "execution_count": null,
      "metadata": {
        "colab": {
          "base_uri": "https://localhost:8080/"
        },
        "id": "8yBrtcyRgVOn",
        "outputId": "71aff0dd-be88-4992-ad26-c68ac0b0dc62"
      },
      "outputs": [],
      "source": [
        "stopword"
      ]
    },
    {
      "cell_type": "code",
      "execution_count": null,
      "metadata": {
        "id": "GcV78cr-gcJK"
      },
      "outputs": [],
      "source": [
        "def data_cleaning(words):\n",
        "    words = str(words).lower()\n",
        "    words = re.sub('\\[.*?\\]', '', words)\n",
        "    words = re.sub('https?://\\S+|www\\.\\S+', '', words)\n",
        "    words = re.sub('<.*?>+', '', words)\n",
        "    words = re.sub('[%s]' % re.escape(string.punctuation), '', words)\n",
        "    words = re.sub('\\n', '', words)\n",
        "    words = re.sub('\\w*\\d\\w*', '', words)\n",
        "\n",
        "    # correct stopword removal\n",
        "    words = [word for word in words.split(' ') if word not in stopword]\n",
        "    words = \" \".join(words)\n",
        "\n",
        "    # correct stemming\n",
        "    words = [stemmer.stem(word) for word in words.split(' ')]\n",
        "    words = \" \".join(words)\n",
        "\n",
        "    return words\n"
      ]
    },
    {
      "cell_type": "code",
      "execution_count": null,
      "metadata": {
        "colab": {
          "base_uri": "https://localhost:8080/",
          "height": 147
        },
        "id": "rXIYJ5B9iNnC",
        "outputId": "0f370241-219c-44ca-8ae5-e53e6e76d844"
      },
      "outputs": [],
      "source": [
        "df['tweet'][1]"
      ]
    },
    {
      "cell_type": "code",
      "execution_count": null,
      "metadata": {
        "id": "Icr2-crfiPw3"
      },
      "outputs": [],
      "source": [
        "df['tweet'] = df['tweet'].apply(data_cleaning)"
      ]
    },
    {
      "cell_type": "code",
      "execution_count": null,
      "metadata": {
        "colab": {
          "base_uri": "https://localhost:8080/",
          "height": 147
        },
        "id": "LR3jtgtCic-M",
        "outputId": "f025d59a-9f43-43fe-c2f3-4cdb9ee41dce"
      },
      "outputs": [],
      "source": [
        "df['tweet'][1]"
      ]
    },
    {
      "cell_type": "code",
      "execution_count": null,
      "metadata": {
        "id": "bBCy-xQ0iocZ"
      },
      "outputs": [],
      "source": [
        "x = df['tweet']\n",
        "y = df['label']"
      ]
    },
    {
      "cell_type": "code",
      "execution_count": null,
      "metadata": {
        "id": "buDngJZtizdJ"
      },
      "outputs": [],
      "source": [
        "from sklearn.model_selection import train_test_split\n",
        "\n",
        "# Let's split the data into train and test\n",
        "\n",
        "x_train, x_test, y_train, y_test = train_test_split(x, y, random_state=42)\n"
      ]
    },
    {
      "cell_type": "code",
      "execution_count": null,
      "metadata": {
        "colab": {
          "base_uri": "https://localhost:8080/"
        },
        "id": "ez9TIriAsOkX",
        "outputId": "f2716504-a00e-4d61-9c84-98b3916f58f2"
      },
      "outputs": [],
      "source": [
        "print(len(x_train),len(y_train))\n",
        "print(len(x_test),len(y_test))"
      ]
    },
    {
      "cell_type": "code",
      "execution_count": null,
      "metadata": {
        "id": "DLLWHGFRsLAO"
      },
      "outputs": [],
      "source": [
        "x_train = x_train.reset_index(drop=True)\n",
        "y_train = y_train.reset_index(drop=True)\n",
        "x_test = x_test.reset_index(drop=True)\n",
        "y_test = y_test.reset_index(drop=True)\n"
      ]
    },
    {
      "cell_type": "code",
      "execution_count": null,
      "metadata": {
        "colab": {
          "base_uri": "https://localhost:8080/"
        },
        "id": "Q0Nvn1snsNUz",
        "outputId": "0377bcc0-513b-43fd-95eb-fe01be4d8dae"
      },
      "outputs": [],
      "source": [
        "print(len(x_train),len(y_train))\n",
        "print(len(x_test),len(y_test))"
      ]
    },
    {
      "cell_type": "code",
      "execution_count": null,
      "metadata": {
        "id": "4__J9mOasYP9"
      },
      "outputs": [],
      "source": [
        "import numpy as np\n",
        "\n",
        "y_train = np.array(y_train)\n",
        "y_test = np.array(y_test)\n"
      ]
    },
    {
      "cell_type": "markdown",
      "metadata": {
        "id": "-UoRpBQ1jJr3"
      },
      "source": [
        "## Feature Engineering"
      ]
    },
    {
      "cell_type": "code",
      "execution_count": null,
      "metadata": {
        "id": "AiKWD_8nkWmm"
      },
      "outputs": [],
      "source": [
        "#!pip install keras\n",
        "#!pip install tensorflow"
      ]
    },
    {
      "cell_type": "code",
      "execution_count": null,
      "metadata": {
        "id": "br40e_gkjACT"
      },
      "outputs": [],
      "source": [
        "import keras\n",
        "import tensorflow\n",
        "from tensorflow.keras.preprocessing.text import Tokenizer\n",
        "from keras.utils import pad_sequences\n"
      ]
    },
    {
      "cell_type": "code",
      "execution_count": null,
      "metadata": {
        "id": "kwsvxAfakG1p"
      },
      "outputs": [],
      "source": [
        "max_words = 50000\n",
        "max_len = 300\n",
        "\n",
        "tokenizer = Tokenizer(num_words=max_words)\n",
        "tokenizer.fit_on_texts(x_train)\n",
        "\n",
        "sequences = tokenizer.texts_to_sequences(x_train)\n",
        "sequences_matrix = pad_sequences(sequences,maxlen=max_len)"
      ]
    },
    {
      "cell_type": "code",
      "execution_count": null,
      "metadata": {
        "colab": {
          "base_uri": "https://localhost:8080/"
        },
        "id": "hPpA68QPlsrf",
        "outputId": "87678e0f-19ee-4eff-cc32-3797bde1a068"
      },
      "outputs": [],
      "source": [
        "sequences_matrix"
      ]
    },
    {
      "cell_type": "code",
      "execution_count": null,
      "metadata": {
        "id": "PakkGfZ0mLfk"
      },
      "outputs": [],
      "source": [
        "from keras.models import Sequential\n",
        "from keras.layers import LSTM, Activation, Dense, Dropout, Input, Embedding, SpatialDropout1D\n",
        "from keras.optimizers import RMSprop"
      ]
    },
    {
      "cell_type": "code",
      "execution_count": null,
      "metadata": {
        "colab": {
          "base_uri": "https://localhost:8080/"
        },
        "id": "9sx1j-ehnwKN",
        "outputId": "d6eda9e2-3c3c-4fbf-adf0-64c69ffbd4c7"
      },
      "outputs": [],
      "source": [
        "model = Sequential()\n",
        "model.add(Embedding(max_words, 100, input_length=max_len))\n",
        "model.add(SpatialDropout1D(0.2))\n",
        "model.add(LSTM(100, dropout=0.2, recurrent_dropout=0.2))\n",
        "model.add(Dense(1, activation='sigmoid'))"
      ]
    },
    {
      "cell_type": "code",
      "execution_count": null,
      "metadata": {
        "id": "27kCMbTOsgGT"
      },
      "outputs": [],
      "source": [
        "model.build(input_shape=(None, max_len))"
      ]
    },
    {
      "cell_type": "code",
      "execution_count": null,
      "metadata": {
        "colab": {
          "base_uri": "https://localhost:8080/",
          "height": 273
        },
        "id": "fiM0eFsAsf7T",
        "outputId": "f8b155cf-a750-48a6-eaf2-5e7c3b229184"
      },
      "outputs": [],
      "source": [
        "model.summary()"
      ]
    },
    {
      "cell_type": "code",
      "execution_count": null,
      "metadata": {
        "id": "7boPu93ZoGAE"
      },
      "outputs": [],
      "source": [
        "model.compile(loss='binary_crossentropy',optimizer=RMSprop(),metrics=['accuracy'])"
      ]
    },
    {
      "cell_type": "code",
      "execution_count": null,
      "metadata": {
        "colab": {
          "base_uri": "https://localhost:8080/"
        },
        "id": "bgsqVDqroGmo",
        "outputId": "793e67ae-8a0f-4f3f-8f9d-69ee52f02569"
      },
      "outputs": [],
      "source": [
        "# starting model training\n",
        "history = model.fit(sequences_matrix,y_train,batch_size=128,epochs = 5,validation_split=0.2)"
      ]
    },
    {
      "cell_type": "code",
      "execution_count": null,
      "metadata": {
        "id": "cND74HjDrDq9"
      },
      "outputs": [],
      "source": [
        "test_sequences = tokenizer.texts_to_sequences(x_test)\n",
        "test_sequences_matrix = pad_sequences(test_sequences,maxlen=max_len)"
      ]
    },
    {
      "cell_type": "code",
      "execution_count": null,
      "metadata": {
        "colab": {
          "base_uri": "https://localhost:8080/"
        },
        "id": "G-zy8t4pviVV",
        "outputId": "bfd9f3ae-37eb-41d1-eb47-dca9f65fbf05"
      },
      "outputs": [],
      "source": [
        "test_sequences_matrix"
      ]
    },
    {
      "cell_type": "code",
      "execution_count": null,
      "metadata": {
        "colab": {
          "base_uri": "https://localhost:8080/"
        },
        "id": "Kgab--6aviQo",
        "outputId": "d8f6d963-8335-4eaa-86ce-09b7ceb87b0a"
      },
      "outputs": [],
      "source": [
        "# Model evaluation\n",
        "accr = model.evaluate(test_sequences_matrix,y_test)"
      ]
    },
    {
      "cell_type": "code",
      "execution_count": null,
      "metadata": {
        "colab": {
          "base_uri": "https://localhost:8080/"
        },
        "id": "oNKpjDnwviKb",
        "outputId": "f3230e89-131d-47d0-c38b-b5cb40f1cca8"
      },
      "outputs": [],
      "source": [
        "lstm_prediction = model.predict(test_sequences_matrix)"
      ]
    },
    {
      "cell_type": "code",
      "execution_count": null,
      "metadata": {
        "id": "5uJVnhHcviHU"
      },
      "outputs": [],
      "source": [
        "res = []\n",
        "for prediction in lstm_prediction:\n",
        "    if prediction[0] < 0.5:\n",
        "        res.append(0)\n",
        "    else:\n",
        "        res.append(1)"
      ]
    },
    {
      "cell_type": "code",
      "execution_count": null,
      "metadata": {
        "id": "RDpDUMXXviCy"
      },
      "outputs": [],
      "source": [
        "from sklearn.metrics import confusion_matrix, accuracy_score"
      ]
    },
    {
      "cell_type": "code",
      "execution_count": null,
      "metadata": {
        "colab": {
          "base_uri": "https://localhost:8080/"
        },
        "id": "duKz83y8vh_e",
        "outputId": "aaa31a42-63ae-4042-8001-cb651826b8f5"
      },
      "outputs": [],
      "source": [
        "print(confusion_matrix(y_test,res))"
      ]
    },
    {
      "cell_type": "code",
      "execution_count": null,
      "metadata": {
        "colab": {
          "base_uri": "https://localhost:8080/"
        },
        "id": "PgxnUCZV2hrJ",
        "outputId": "6d3d1ac2-9835-4959-9d82-b1d883d2416a"
      },
      "outputs": [],
      "source": [
        "print(accuracy_score(y_test,res))"
      ]
    },
    {
      "cell_type": "code",
      "execution_count": null,
      "metadata": {
        "id": "fhr4nT3rvh8S"
      },
      "outputs": [],
      "source": [
        "import pickle\n",
        "with open('tokenizer.pickle', 'wb') as handle:\n",
        "    pickle.dump(tokenizer, handle, protocol=pickle.HIGHEST_PROTOCOL)"
      ]
    },
    {
      "cell_type": "code",
      "execution_count": null,
      "metadata": {
        "colab": {
          "base_uri": "https://localhost:8080/"
        },
        "id": "s40D1wIKvh5X",
        "outputId": "5b66e4bf-8940-4094-db62-6cb65a0a847e"
      },
      "outputs": [],
      "source": [
        "# Let's save the mdoel.\n",
        "model.save(\"model.h5\")"
      ]
    },
    {
      "cell_type": "code",
      "execution_count": null,
      "metadata": {
        "colab": {
          "base_uri": "https://localhost:8080/"
        },
        "id": "o8eJp-lrvh2W",
        "outputId": "19767a30-82d8-48b6-e21d-04ff8db6ac43"
      },
      "outputs": [],
      "source": [
        "load_model=keras.models.load_model(\"model.h5\")\n",
        "with open('tokenizer.pickle', 'rb') as handle:\n",
        "    load_tokenizer = pickle.load(handle)"
      ]
    },
    {
      "cell_type": "code",
      "execution_count": null,
      "metadata": {
        "colab": {
          "base_uri": "https://localhost:8080/"
        },
        "id": "4Ti-i_-gvhzJ",
        "outputId": "122e4e6b-eef2-4afa-e0e9-612d83634355"
      },
      "outputs": [],
      "source": [
        "# Let's test our model on custom data.\n",
        "test = 'i love this movie'\n",
        "\n",
        "def clean_text(text):\n",
        "    text = str(text).lower()\n",
        "    text = re.sub('\\[.*?\\]', '', text)\n",
        "    text = re.sub('https?://\\S+|www\\.\\S+', '', text)\n",
        "    text = re.sub('<.*?>+', '', text)\n",
        "    text = re.sub('[%s]' % re.escape(string.punctuation), '', text)\n",
        "    text = re.sub('\\n', '', text)\n",
        "    text = re.sub('\\w*\\d\\w*', '', text)\n",
        "    words = text.split(' ')\n",
        "    words = [word for word in words if word not in stopword]\n",
        "    words = [stemmer.stem(word) for word in words]\n",
        "    text = \" \".join(words)\n",
        "    return text\n",
        "\n",
        "test=[clean_text(test)]\n",
        "print(test)\n",
        "\n",
        "seq = load_tokenizer.texts_to_sequences(test)\n",
        "padded = pad_sequences(seq, maxlen=300)\n",
        "print(seq)\n",
        "\n",
        "pred = load_model.predict(padded)\n",
        "\n",
        "print(\"pred\", pred)\n",
        "if pred<0.5:\n",
        "    print(\"no hate\")\n",
        "else:\n",
        "    print(\"hate and abusive\")\n"
      ]
    },
    {
      "cell_type": "code",
      "execution_count": null,
      "metadata": {
        "id": "EVcGJcQE33_p"
      },
      "outputs": [],
      "source": []
    }
  ],
  "metadata": {
    "accelerator": "GPU",
    "colab": {
      "gpuType": "T4",
      "provenance": []
    },
    "kernelspec": {
      "display_name": "Python 3",
      "name": "python3"
    },
    "language_info": {
      "name": "python"
    }
  },
  "nbformat": 4,
  "nbformat_minor": 0
}
